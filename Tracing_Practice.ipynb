{
  "nbformat": 4,
  "nbformat_minor": 0,
  "metadata": {
    "colab": {
      "provenance": [],
      "include_colab_link": true
    },
    "kernelspec": {
      "name": "python3",
      "display_name": "Python 3"
    },
    "language_info": {
      "name": "python"
    }
  },
  "cells": [
    {
      "cell_type": "markdown",
      "metadata": {
        "id": "view-in-github",
        "colab_type": "text"
      },
      "source": [
        "<a href=\"https://colab.research.google.com/github/mah-mudulhasan-jim/my_first_github_repo/blob/main/Tracing_Practice.ipynb\" target=\"_parent\"><img src=\"https://colab.research.google.com/assets/colab-badge.svg\" alt=\"Open In Colab\"/></a>"
      ]
    },
    {
      "cell_type": "code",
      "execution_count": null,
      "metadata": {
        "colab": {
          "base_uri": "https://localhost:8080/"
        },
        "id": "6au0Rhv5xzNR",
        "outputId": "bf26d3b3-3765-4764-8efd-548467cfdab6"
      },
      "outputs": [
        {
          "output_type": "stream",
          "name": "stdout",
          "text": [
            "36 3 39\n",
            "39 9 87\n",
            "100 3 194\n"
          ]
        }
      ],
      "source": [
        "#Pass by value and pass by refernce (Object passing)\n",
        "class Test3:\n",
        "    def __init__(self):\n",
        "        self.sum, self.y = 0, 0\n",
        "    def methodA(self):\n",
        "        x, y = 2, 3\n",
        "        msg = [0]\n",
        "        msg[0] = 3\n",
        "        y = self.y + msg[0]\n",
        "        x = self.methodB(msg, msg[0]) + y # method call before operator\n",
        "        msg[0] = x+self.methodB(msg, msg[0]) #method call after operator\n",
        "        x = self.y + msg[0]\n",
        "        self.sum = x + y + msg[0]\n",
        "        print(x, y, self.sum)\n",
        "    def methodB(self, mg2, mg1):\n",
        "        x = 0\n",
        "        self.y = self.y + mg2[0]\n",
        "        x = x + 33 + mg1\n",
        "        self.sum = self.sum + x + self.y\n",
        "        mg2[0] = self.y + mg1\n",
        "        mg1 = mg1 + x + 2\n",
        "        print(x, self.y, self.sum)\n",
        "        return mg1\n",
        "\n",
        "t3 = Test3()\n",
        "t3.methodA()"
      ]
    },
    {
      "cell_type": "code",
      "source": [
        "#Two objects of the same class\n",
        "class B:\n",
        "    def __init__(self, b=None):\n",
        "        self.y = 4\n",
        "        self.temp = 3\n",
        "        self.x = 1\n",
        "        self.sum = 2\n",
        "        if b == None:\n",
        "            self.y = self.temp + 3\n",
        "            self.sum = 3 + self.temp + 2\n",
        "            self.temp -= 1\n",
        "        else:\n",
        "            b.sum = self.y+self.temp -2\n",
        "            self.sum = b.sum + self.x\n",
        "            b.methodA()\n",
        "    def methodA(self, m,  n):\n",
        "        x = 0\n",
        "        self.y = self.y + m + self.temp\n",
        "        self.temp += 1\n",
        "        x = x + 2 + n\n",
        "        self.sum = self.sum + x + self.y\n",
        "        print(x, self.y, self.sum)\n",
        "\n",
        "    def methodB(self, m,  n):\n",
        "        y = 0\n",
        "        y = y + self.y\n",
        "        self.x = y + 2 + self.temp\n",
        "        self.sum = self.x + y + self.sum\n",
        "        print(self.x, y, self.sum)\n",
        "b1 = B()\n",
        "b2 = B(b1) #Pass by reference\n",
        "b1.methodA(1, 2)\n",
        "b2.methodB(3, 2)"
      ],
      "metadata": {
        "colab": {
          "base_uri": "https://localhost:8080/"
        },
        "id": "j_5YhXVlzXpr",
        "outputId": "1c3c6771-eca7-473c-f239-318f0c1b122f"
      },
      "execution_count": null,
      "outputs": [
        {
          "output_type": "stream",
          "name": "stdout",
          "text": [
            "4 9 18\n",
            "9 4 19\n"
          ]
        }
      ]
    },
    {
      "cell_type": "code",
      "source": [
        "#Tracing given in midterm exam\n",
        "class MidA:\n",
        " def __init__(self):\n",
        "  self.x = 3\n",
        "  self.y = 7\n",
        "  self.sum = 0\n",
        " def methodA(self, x):\n",
        "  self.y = x + self.sum + self.x\n",
        "  self.sum = x + self.y\n",
        "  z = MidA()\n",
        "  z.sum = self.sum + self.y\n",
        "  self.methodB(z)\n",
        "  print(self.x, self.y, self.sum)\n",
        " def methodB(self, a):\n",
        "  y = 3\n",
        "  a.x = self.x + self.sum;\n",
        "  self.sum = a.x + a.y + y\n",
        "  print(a.x, a.y, a.sum)\n",
        "\n",
        "a = MidA()\n",
        "a.methodA(5)"
      ],
      "metadata": {
        "colab": {
          "base_uri": "https://localhost:8080/"
        },
        "id": "6RpCFJRg-rST",
        "outputId": "3a144676-f15a-4955-f4d4-95649a86be94"
      },
      "execution_count": null,
      "outputs": [
        {
          "output_type": "stream",
          "name": "stdout",
          "text": [
            "16 7 21\n",
            "3 8 26\n"
          ]
        }
      ]
    },
    {
      "cell_type": "code",
      "source": [
        "#Two objects of 2 different classes (Anothe Example would be task 19 of lab assignment-4)\n",
        "class A:\n",
        "    def __init__(self):\n",
        "        self.temp = 4\n",
        "        self.sum = 1\n",
        "        self.y = 2\n",
        "        self.y = self.temp - 2\n",
        "        self.sum = self.temp + 3\n",
        "        self.temp -= 2\n",
        "        print(self.temp,self.sum,self.y)\n",
        "\n",
        "class B:\n",
        "    def __init__(self, b=None):\n",
        "        self.y = 4\n",
        "        self.temp = 3\n",
        "        self.x = 1\n",
        "        self.sum = 2\n",
        "        if b == None:\n",
        "            self.y = self.temp + 3\n",
        "            self.sum = 3 + self.temp + 2\n",
        "            self.temp -= 1\n",
        "        else:\n",
        "            b.temp = b.sum + self.sum-4\n",
        "            b.sum -= 2\n",
        "            self.sum = b.temp+self.temp-2\n",
        "    def methodB(self, m,  n):\n",
        "        y = 0\n",
        "        y = y + self.y\n",
        "        self.x = y + 2 + self.temp\n",
        "        self.sum = self.x + y + self.sum\n",
        "        print(self.x, y, self.sum)\n",
        "a1 = A()\n",
        "b1 = B(a1)\n",
        "b1.methodB(3, 2)"
      ],
      "metadata": {
        "colab": {
          "base_uri": "https://localhost:8080/"
        },
        "id": "20COjPu_y4pg",
        "outputId": "e13bb4b1-39f4-4b92-e1be-0b5c18a24695"
      },
      "execution_count": null,
      "outputs": [
        {
          "output_type": "stream",
          "name": "stdout",
          "text": [
            "2 7 2\n",
            "9 4 19\n"
          ]
        }
      ]
    },
    {
      "cell_type": "code",
      "source": [
        "#Class variable with single object\n",
        "class FinalT6A:\n",
        "    temp = 3\n",
        "\n",
        "    def __init__(self, x, p):\n",
        "        self.sum, self.y = 0, 2\n",
        "        FinalT6A.temp += 3\n",
        "        self.y = self.temp - p\n",
        "        self.sum = self.temp + x\n",
        "        print(x, self.y, self.sum)\n",
        "\n",
        "    def methodA(self):\n",
        "        x, y = 0, 0\n",
        "        y = y + self.y\n",
        "        x = self.y + 2 + self.temp\n",
        "        self.sum = x + y + self.methodB(self.temp, y)\n",
        "        print(x, y, self.sum)\n",
        "\n",
        "    def methodB(self, temp, n):\n",
        "        x = 0\n",
        "        FinalT6A.temp += 1\n",
        "        self.y = self.y + (FinalT6A.temp)\n",
        "        FinalT6A.temp -= 1\n",
        "        x = x + 2 + n\n",
        "        self.sum = self.sum + x + self.y\n",
        "        print(x, self.y, self.sum)\n",
        "        return self.sum\n",
        "\n",
        "q1 = FinalT6A(2,1)\n",
        "q1.methodA()\n",
        "\n",
        "\n"
      ],
      "metadata": {
        "colab": {
          "base_uri": "https://localhost:8080/"
        },
        "id": "MPJ3KmcFy4xn",
        "outputId": "5c4ab7be-7db8-444c-fb3b-efbacb6b9352"
      },
      "execution_count": null,
      "outputs": [
        {
          "output_type": "stream",
          "name": "stdout",
          "text": [
            "2 5 8\n",
            "7 12 27\n",
            "13 5 45\n"
          ]
        }
      ]
    },
    {
      "cell_type": "code",
      "source": [
        "#Class variable with multiple object\n",
        "class FinalT6A:\n",
        "    temp = 3\n",
        "\n",
        "    def __init__(self, x, p):\n",
        "        self.sum, self.y = 0, 2\n",
        "        FinalT6A.temp += 3\n",
        "        self.y = self.temp - p\n",
        "        self.sum = self.temp + x\n",
        "        print(x, self.y, self.sum)\n",
        "\n",
        "    def methodA(self):\n",
        "        x, y = 0, 0\n",
        "        y = y + self.y\n",
        "        FinalT6A.temp += 3\n",
        "        x = self.y + 2 + self.temp\n",
        "        self.sum = x + y\n",
        "        print(x, y, self.sum)\n",
        "\n",
        "q1 = FinalT6A(2,1)\n",
        "q2 = FinalT6A(3,4)\n",
        "q1.methodA()\n",
        "q2.methodA()"
      ],
      "metadata": {
        "colab": {
          "base_uri": "https://localhost:8080/"
        },
        "id": "Lc3ZvvcDPwIG",
        "outputId": "6967cc63-588a-46fe-ea0f-0eb0af8b0885"
      },
      "execution_count": null,
      "outputs": [
        {
          "output_type": "stream",
          "name": "stdout",
          "text": [
            "2 5 8\n",
            "3 5 12\n",
            "19 5 24\n",
            "22 5 27\n"
          ]
        }
      ]
    },
    {
      "cell_type": "code",
      "source": [
        "#Inheritance Basic\n",
        "class A:\n",
        "    def __init__(self):\n",
        "        self.temp = 4\n",
        "        self.sum = 1\n",
        "        self.y = 2\n",
        "        self.y = self.temp - 2\n",
        "        self.sum = self.temp + 3\n",
        "        self.temp -= 2\n",
        "    def methodA(self, m,  n):\n",
        "        x = 0\n",
        "        self.y = self.y + m + self.temp\n",
        "        self.temp += 1\n",
        "        x = x + 2 + n\n",
        "        self.sum = self.sum + x + self.y\n",
        "        print(x, self.y, self.sum)\n",
        "\n",
        "class B(A):\n",
        "    def __init__(self, b=None):\n",
        "        super().__init__()\n",
        "        self.x = 1\n",
        "        self.sum = 2\n",
        "        if b == None:\n",
        "            self.y = self.temp + 3\n",
        "            self.sum = 3 + self.temp + 2\n",
        "            self.temp -= 1\n",
        "        else:\n",
        "            self.sum = b.sum\n",
        "            self.x = b.x\n",
        "    def methodB(self, m,  n):\n",
        "        y = 0\n",
        "        y = y + self.y\n",
        "        self.x = y + 2 + self.temp\n",
        "        self.methodA(self.x, y)\n",
        "        self.sum = self.x + y + self.sum\n",
        "        print(self.x, y, self.sum)\n",
        "\n",
        "a1 = A()\n",
        "b1 = B()\n",
        "a1.methodA(1, 1)\n",
        "b1.methodA(1, 2)\n",
        "b1.methodB(3, 2)\n",
        "\n"
      ],
      "metadata": {
        "id": "tjfbwFjoyy5N",
        "colab": {
          "base_uri": "https://localhost:8080/"
        },
        "outputId": "8394834e-df14-4d02-edf3-1457f2a00812"
      },
      "execution_count": null,
      "outputs": [
        {
          "output_type": "stream",
          "name": "stdout",
          "text": [
            "3 5 15\n",
            "4 7 18\n",
            "9 20 47\n",
            "11 7 65\n"
          ]
        }
      ]
    },
    {
      "cell_type": "code",
      "source": [
        "#Inheritance with class variable\n",
        "class A:\n",
        "    temp = 4\n",
        "    def __init__(self):\n",
        "        self.sum = 0\n",
        "        self.y = 0\n",
        "        self.y = A.temp - 2\n",
        "        self.sum = A.temp + 1\n",
        "        A.temp -= 2\n",
        "    def methodA(self, m,  n):\n",
        "        x = 0\n",
        "        self.y = self.y + m + (A.temp)\n",
        "        A.temp += 1\n",
        "        x = x + 1 + n\n",
        "        self.sum = self.sum + x + self.y\n",
        "        print(x, self.y, self.sum)\n",
        "\n",
        "class B(A):\n",
        "    x = 0 #what if temp = 0\n",
        "    def __init__(self,b=None):\n",
        "        super().__init__()\n",
        "        self.sum = 0\n",
        "        if b==None:\n",
        "            self.y =self.temp + 3\n",
        "            self.sum = 3 + A.temp + 2\n",
        "            A.temp -= 2\n",
        "        else:\n",
        "            self.sum = b.sum\n",
        "            B.x = b.x\n",
        "            b.methodB(2, 3)\n",
        "    def methodB(self, m,  n):\n",
        "        y = 0\n",
        "        y = y + self.y\n",
        "        B.x = self.y + 2 + A.temp\n",
        "        self.sum = B.x + y + self.sum\n",
        "        print(B.x, y, self.sum)\n",
        "a1 = A()\n",
        "b1 = B()\n",
        "b2 = B(b1)\n",
        "b1.methodA(1, 2)\n",
        "b2.methodB(3, 2)"
      ],
      "metadata": {
        "id": "D5OIj-zWyeUN",
        "colab": {
          "base_uri": "https://localhost:8080/"
        },
        "outputId": "19710507-d5a3-41da-ec9e-3876598dd093"
      },
      "execution_count": null,
      "outputs": [
        {
          "output_type": "stream",
          "name": "stdout",
          "text": [
            "1 3 9\n",
            "3 0 12\n",
            "-5 -4 -4\n"
          ]
        }
      ]
    },
    {
      "cell_type": "code",
      "source": [],
      "metadata": {
        "colab": {
          "base_uri": "https://localhost:8080/"
        },
        "id": "oxF6Xs038C6X",
        "outputId": "6922dd37-b3dd-498a-80e2-d245bdfc8309"
      },
      "execution_count": null,
      "outputs": [
        {
          "output_type": "stream",
          "name": "stdout",
          "text": [
            "200\n",
            "100\n",
            "200\n",
            "100\n",
            "300\n"
          ]
        }
      ]
    }
  ]
}