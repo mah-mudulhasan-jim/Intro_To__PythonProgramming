{
  "nbformat": 4,
  "nbformat_minor": 0,
  "metadata": {
    "colab": {
      "provenance": [],
      "authorship_tag": "ABX9TyPY7FTHf/zMtbsXWJAZbPno",
      "include_colab_link": true
    },
    "kernelspec": {
      "name": "python3",
      "display_name": "Python 3"
    },
    "language_info": {
      "name": "python"
    }
  },
  "cells": [
    {
      "cell_type": "markdown",
      "metadata": {
        "id": "view-in-github",
        "colab_type": "text"
      },
      "source": [
        "<a href=\"https://colab.research.google.com/github/mah-mudulhasan-jim/Intro_To__PythonProgramming/blob/main/Basics_Singly_Linked_List.ipynb\" target=\"_parent\"><img src=\"https://colab.research.google.com/assets/colab-badge.svg\" alt=\"Open In Colab\"/></a>"
      ]
    },
    {
      "cell_type": "code",
      "execution_count": 5,
      "metadata": {
        "id": "iQSByUUq6RZX"
      },
      "outputs": [],
      "source": [
        "# Creating Node class\n",
        "class Node:\n",
        "  def __init__(self, elem = None, next = None):\n",
        "    self.elem = elem\n",
        "    self.next = next"
      ]
    },
    {
      "cell_type": "code",
      "source": [
        "# creating Nodes physical objects\n",
        "a = Node(10, None)\n",
        "b = Node(20, None)\n",
        "c = Node(30, None)\n",
        "d = Node(40, None)\n"
      ],
      "metadata": {
        "id": "tLoQ9Qnk67eo"
      },
      "execution_count": 7,
      "outputs": []
    },
    {
      "cell_type": "code",
      "source": [
        "# linking the objects\n",
        "a.next = b\n",
        "b.next = c\n",
        "c.next = d\n"
      ],
      "metadata": {
        "id": "_7Ewy3ne7fWr"
      },
      "execution_count": 8,
      "outputs": []
    },
    {
      "cell_type": "code",
      "source": [
        "# Printing the linked list\n",
        "def printLinkedList(head):\n",
        "  temp = head\n",
        "  while temp != None:\n",
        "    if temp.next != None:\n",
        "      print(temp.elem, end = ' ---> ')\n",
        "    else:\n",
        "      print(temp.elem)\n",
        "    temp = temp.next"
      ],
      "metadata": {
        "id": "_c2K1N2C8Oeu"
      },
      "execution_count": 14,
      "outputs": []
    },
    {
      "cell_type": "code",
      "source": [
        "printLinkedList(a)"
      ],
      "metadata": {
        "colab": {
          "base_uri": "https://localhost:8080/"
        },
        "id": "Mvsef0oe8khG",
        "outputId": "365c7f99-a7d8-4d77-f87f-f36a27f048ac"
      },
      "execution_count": 15,
      "outputs": [
        {
          "output_type": "stream",
          "name": "stdout",
          "text": [
            "10 ---> 20 ---> 30 ---> 40\n"
          ]
        }
      ]
    },
    {
      "cell_type": "code",
      "source": [
        "# Creating linked list from Array\n",
        "def createList(arr):\n",
        "  head = Node(arr[len(arr)-1])\n",
        "  # temp = head\n",
        "  tail = head\n",
        "  for i in range(len(arr)-2, -1, -1):\n",
        "    new_node = Node(arr[i], None)\n",
        "    tail.next = new_node\n",
        "    tail = tail.next\n",
        "  return head"
      ],
      "metadata": {
        "id": "zNFo6f888oEh"
      },
      "execution_count": 62,
      "outputs": []
    },
    {
      "cell_type": "code",
      "source": [
        "import numpy as np\n",
        "arr = np.array([10,2,34,5,6,7,8,80])\n",
        "linkedlist = createList(arr)\n",
        "printLinkedList(linkedlist)"
      ],
      "metadata": {
        "colab": {
          "base_uri": "https://localhost:8080/"
        },
        "id": "SHoxZ3ILAvRo",
        "outputId": "23ab001b-d702-4ec6-a4f7-e032ab44d166"
      },
      "execution_count": 63,
      "outputs": [
        {
          "output_type": "stream",
          "name": "stdout",
          "text": [
            "80 ---> 8 ---> 7 ---> 6 ---> 5 ---> 34 ---> 2 ---> 10\n"
          ]
        }
      ]
    },
    {
      "cell_type": "code",
      "source": [
        "def NodeCounter(head):\n",
        "  temp = head\n",
        "  count = 0\n",
        "  while temp != None:\n",
        "    count += 1\n",
        "    temp = temp.next\n",
        "  return count"
      ],
      "metadata": {
        "id": "s8jlJg_VA0D_"
      },
      "execution_count": 64,
      "outputs": []
    },
    {
      "cell_type": "code",
      "source": [
        "print(NodeCounter(linkedlist))"
      ],
      "metadata": {
        "colab": {
          "base_uri": "https://localhost:8080/"
        },
        "id": "w6tZQfVRLcdN",
        "outputId": "45d34a97-db70-4453-bba4-a10f9ff671d3"
      },
      "execution_count": 65,
      "outputs": [
        {
          "output_type": "stream",
          "name": "stdout",
          "text": [
            "8\n"
          ]
        }
      ]
    },
    {
      "cell_type": "code",
      "source": [
        "def insert(head, idx, elem):\n",
        "  new_node = Node(elem)\n",
        "  count = 0\n",
        "  if idx == 0:\n",
        "    new_node.next = head\n",
        "    head = new_node\n",
        "    return head\n",
        "  temp = head\n",
        "\n",
        "  while temp != None:\n",
        "    count += 1\n",
        "    if count == idx:\n",
        "      new_node.next = temp.next\n",
        "      temp.next = new_node\n",
        "      return head\n",
        "    temp = temp.next"
      ],
      "metadata": {
        "id": "Qed7BE4gLgM_"
      },
      "execution_count": 71,
      "outputs": []
    },
    {
      "cell_type": "code",
      "source": [
        "h2 = insert(linkedlist, 0, 60)\n",
        "# printLinkedList(linkedlist)\n",
        "printLinkedList(h2)"
      ],
      "metadata": {
        "colab": {
          "base_uri": "https://localhost:8080/"
        },
        "id": "NJy90QaoNux2",
        "outputId": "8462016c-fb47-4071-fe77-d62a667443fc"
      },
      "execution_count": 73,
      "outputs": [
        {
          "output_type": "stream",
          "name": "stdout",
          "text": [
            "80 ---> 60 ---> 8 ---> 7 ---> 6 ---> 5 ---> 34 ---> 2 ---> 10\n",
            "60 ---> 80 ---> 60 ---> 8 ---> 7 ---> 6 ---> 5 ---> 34 ---> 2 ---> 10\n"
          ]
        }
      ]
    },
    {
      "cell_type": "code",
      "source": [
        "def remove(head, idx):\n",
        "  if idx == 0:\n",
        "    head = head.next\n",
        "    return head\n",
        "  count = 0\n",
        "  temp = head\n",
        "  while temp != None:\n",
        "    count += 1\n",
        "    if count == idx:\n",
        "      temp.next = temp.next.next\n",
        "      return head\n",
        "    temp = temp.next"
      ],
      "metadata": {
        "id": "gGquCyfLOGI_"
      },
      "execution_count": 76,
      "outputs": []
    },
    {
      "cell_type": "code",
      "source": [
        "printLinkedList(linkedlist)\n",
        "h3 = remove(linkedlist, 0)\n",
        "printLinkedList(h3)\n"
      ],
      "metadata": {
        "colab": {
          "base_uri": "https://localhost:8080/"
        },
        "id": "ppsRU18IUuKC",
        "outputId": "5202aa24-afec-44af-abee-912b0045c63d"
      },
      "execution_count": 79,
      "outputs": [
        {
          "output_type": "stream",
          "name": "stdout",
          "text": [
            "80 ---> 60 ---> 7 ---> 6 ---> 5 ---> 34 ---> 2 ---> 10\n",
            "60 ---> 7 ---> 6 ---> 5 ---> 34 ---> 2 ---> 10\n"
          ]
        }
      ]
    },
    {
      "cell_type": "code",
      "source": [],
      "metadata": {
        "id": "BgPlmJgRVCCq"
      },
      "execution_count": null,
      "outputs": []
    }
  ]
}