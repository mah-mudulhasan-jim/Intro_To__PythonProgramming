{
  "nbformat": 4,
  "nbformat_minor": 0,
  "metadata": {
    "colab": {
      "provenance": [],
      "include_colab_link": true
    },
    "kernelspec": {
      "name": "python3",
      "display_name": "Python 3"
    },
    "language_info": {
      "name": "python"
    }
  },
  "cells": [
    {
      "cell_type": "markdown",
      "metadata": {
        "id": "view-in-github",
        "colab_type": "text"
      },
      "source": [
        "<a href=\"https://colab.research.google.com/github/mah-mudulhasan-jim/my_first_github_repo/blob/main/CSE110_Assignment_3_Loops.ipynb\" target=\"_parent\"><img src=\"https://colab.research.google.com/assets/colab-badge.svg\" alt=\"Open In Colab\"/></a>"
      ]
    },
    {
      "cell_type": "code",
      "execution_count": null,
      "metadata": {
        "colab": {
          "base_uri": "https://localhost:8080/"
        },
        "id": "psNovDfa8bHZ",
        "outputId": "d59659af-cf1d-4923-a771-70c8ee4598a7"
      },
      "outputs": [
        {
          "output_type": "stream",
          "name": "stdout",
          "text": [
            "Toyota\n",
            "2\n",
            "0\n",
            "1\n"
          ]
        }
      ],
      "source": [
        "#problem_2\n",
        "n=input()\n",
        "num=int(input())\n",
        "for n in range(num):\n",
        "  print(n)"
      ]
    },
    {
      "cell_type": "code",
      "source": [],
      "metadata": {
        "id": "lTRomjoAcU_v"
      },
      "execution_count": null,
      "outputs": []
    },
    {
      "cell_type": "code",
      "source": [
        "#Task_2\n",
        "n=input()\n",
        "num=int(input())\n",
        "i=0\n",
        "while(i<num):\n",
        "  print(n)\n",
        "  i+=1"
      ],
      "metadata": {
        "colab": {
          "base_uri": "https://localhost:8080/"
        },
        "id": "A3NRPVAmAVkL",
        "outputId": "a26cbfdf-60dc-4775-8a4a-55bf6db3306d"
      },
      "execution_count": null,
      "outputs": [
        {
          "output_type": "stream",
          "name": "stdout",
          "text": [
            "Toyota\n",
            "2\n",
            "Toyota\n",
            "Toyota\n"
          ]
        }
      ]
    },
    {
      "cell_type": "code",
      "source": [
        "#Problem_1\n",
        "name=input()\n",
        "num=int(input())\n",
        "for i in range(num):\n",
        "  print(n)"
      ],
      "metadata": {
        "colab": {
          "base_uri": "https://localhost:8080/"
        },
        "id": "aZoLCYo6JjNw",
        "outputId": "f69bf57c-e3b0-4725-f8d1-3348cb1f4edf"
      },
      "execution_count": null,
      "outputs": [
        {
          "output_type": "stream",
          "name": "stdout",
          "text": [
            "audi\n",
            "2\n",
            "1\n",
            "1\n"
          ]
        }
      ]
    },
    {
      "cell_type": "code",
      "source": [
        "#start***************************************************************"
      ],
      "metadata": {
        "id": "wC7kvabzc1BR"
      },
      "execution_count": null,
      "outputs": []
    },
    {
      "cell_type": "code",
      "source": [],
      "metadata": {
        "id": "SeTMVnjSc0-O"
      },
      "execution_count": null,
      "outputs": []
    },
    {
      "cell_type": "code",
      "source": [],
      "metadata": {
        "id": "ex5Rw95pc02D"
      },
      "execution_count": null,
      "outputs": []
    },
    {
      "cell_type": "code",
      "source": [],
      "metadata": {
        "id": "dOrlYE0Bc0nO"
      },
      "execution_count": null,
      "outputs": []
    },
    {
      "cell_type": "code",
      "source": [
        "#task1(a)\n",
        "i=24\n",
        "while i>=-6:\n",
        "  if i==-6:\n",
        "    print(i,end='')\n",
        "  else:\n",
        "   print(i,end=',')\n",
        "  i-=6"
      ],
      "metadata": {
        "id": "BJY3vwLVcWPV",
        "colab": {
          "base_uri": "https://localhost:8080/"
        },
        "outputId": "9bd053c6-2416-4485-862c-dc6804b56066"
      },
      "execution_count": null,
      "outputs": [
        {
          "output_type": "stream",
          "name": "stdout",
          "text": [
            "24,18,12,6,0,-6"
          ]
        }
      ]
    },
    {
      "cell_type": "code",
      "source": [
        "for i in range()"
      ],
      "metadata": {
        "id": "4SOsAOLHhNtv"
      },
      "execution_count": null,
      "outputs": []
    },
    {
      "cell_type": "code",
      "source": [
        "#task1(b)\n",
        "i=-10\n",
        "while i<=20:\n",
        "  if i==20:\n",
        "    print(i,end='')\n",
        "  else:\n",
        "   print(i,end=',')\n",
        "  i+=5"
      ],
      "metadata": {
        "id": "WaR7CB8ccXTt",
        "colab": {
          "base_uri": "https://localhost:8080/"
        },
        "outputId": "07fb98ca-a3ae-4faa-a2c4-685d131a6de0"
      },
      "execution_count": null,
      "outputs": [
        {
          "output_type": "stream",
          "name": "stdout",
          "text": [
            "-10,-5,0,5,10,15,20"
          ]
        }
      ]
    },
    {
      "cell_type": "code",
      "source": [
        "#task1(c)\n",
        "i=18\n",
        "while i<=63:\n",
        "  if i==63:\n",
        "    print(i,end='')\n",
        "  else:\n",
        "   print(i,end=',')\n",
        "  i+=9"
      ],
      "metadata": {
        "id": "uX5QSE4Ack3D",
        "colab": {
          "base_uri": "https://localhost:8080/"
        },
        "outputId": "8304fc07-eabc-40ba-9839-e6a89b181e66"
      },
      "execution_count": null,
      "outputs": [
        {
          "output_type": "stream",
          "name": "stdout",
          "text": [
            "18,27,36,45,54,63"
          ]
        }
      ]
    },
    {
      "cell_type": "code",
      "source": [
        "#task1(d)\n",
        "i=18\n",
        "while i<=63:\n",
        "  if i==63:\n",
        "    print(i*-1,end='')\n",
        "  elif i%2!=0:\n",
        "    print(i*-1,end=',')\n",
        "  else:\n",
        "   print(i,end=',')\n",
        "  i+=9"
      ],
      "metadata": {
        "id": "REBIEF7IcbeL",
        "colab": {
          "base_uri": "https://localhost:8080/"
        },
        "outputId": "f9c43f2e-78eb-4dad-f3ff-52250a2307fb"
      },
      "execution_count": null,
      "outputs": [
        {
          "output_type": "stream",
          "name": "stdout",
          "text": [
            "18,-27,36,-45,54,-63"
          ]
        }
      ]
    },
    {
      "cell_type": "code",
      "source": [
        "#Start as-2\n",
        "\n",
        "\n",
        "#Task_2(for)\n",
        "name=input()\n",
        "num=int(input())\n",
        "for i in range(num): #i just as a increment vairable\n",
        "  print(name)\n"
      ],
      "metadata": {
        "colab": {
          "base_uri": "https://localhost:8080/"
        },
        "id": "PMwWxf4zJzB6",
        "outputId": "787e3f6e-be75-42b1-cb56-67273e62addc"
      },
      "execution_count": null,
      "outputs": [
        {
          "output_type": "stream",
          "name": "stdout",
          "text": [
            "audi\n",
            "2\n",
            "audi\n",
            "audi\n"
          ]
        }
      ]
    },
    {
      "cell_type": "code",
      "source": [
        "#Task_2(while)\n",
        "name=input()\n",
        "num=int(input())\n",
        "i=1\n",
        "while(i<=num):\n",
        "  print(name)\n",
        "  i+=1"
      ],
      "metadata": {
        "colab": {
          "base_uri": "https://localhost:8080/"
        },
        "id": "JQ9D0hsnrf9X",
        "outputId": "13816aa6-67d5-4588-b4d3-c797dd7a5721"
      },
      "execution_count": null,
      "outputs": [
        {
          "output_type": "stream",
          "name": "stdout",
          "text": [
            "audi\n",
            "2\n",
            "audi\n",
            "audi\n"
          ]
        }
      ]
    },
    {
      "cell_type": "code",
      "source": [
        "#Task_3\n",
        "sum=0\n",
        "i=1\n",
        "while(i<=600):\n",
        "  if(i%7==0 and i%9==0):\n",
        "   sum+=i\n",
        "  i+=1\n",
        "print(sum)"
      ],
      "metadata": {
        "colab": {
          "base_uri": "https://localhost:8080/"
        },
        "id": "-yVPnj3OP4Aj",
        "outputId": "5678296c-cc48-4a09-d850-d5162c013b8d"
      },
      "execution_count": null,
      "outputs": [
        {
          "output_type": "stream",
          "name": "stdout",
          "text": [
            "2835\n"
          ]
        }
      ]
    },
    {
      "cell_type": "code",
      "source": [
        "#Task_3\n",
        "sum=0\n",
        "for i in range(1,601):\n",
        "       if(i%7==0 and i%9==0):\n",
        "           sum=sum+i\n",
        "print(sum)"
      ],
      "metadata": {
        "colab": {
          "base_uri": "https://localhost:8080/"
        },
        "id": "PX_JcQELr4Rd",
        "outputId": "22040292-3bb4-4e4c-df98-ff7299d7c495"
      },
      "execution_count": null,
      "outputs": [
        {
          "output_type": "stream",
          "name": "stdout",
          "text": [
            "2835\n"
          ]
        }
      ]
    },
    {
      "cell_type": "code",
      "source": [
        "#Task_4\n",
        "sum=0\n",
        "i=1\n",
        "while(i<=600):\n",
        "  if(i%7==0 and i%9==0):\n",
        "     pass\n",
        "  elif(i%7==0 or i%9==0): #if dile prb ki\n",
        "     sum+=i\n",
        "  i+=1\n",
        "print(sum)"
      ],
      "metadata": {
        "colab": {
          "base_uri": "https://localhost:8080/"
        },
        "id": "V5ga30xTi89d",
        "outputId": "9d79599a-0c51-4ae8-a4a9-c2cb0bda78ed"
      },
      "execution_count": null,
      "outputs": [
        {
          "output_type": "stream",
          "name": "stdout",
          "text": [
            "39814\n"
          ]
        }
      ]
    },
    {
      "cell_type": "code",
      "source": [
        "#Task_4\n",
        "sum=0\n",
        "for i in range(1,601):\n",
        "       if(i%7==0 and i%9==0):\n",
        "         pass\n",
        "       elif(i%7==0 or i%9==0):\n",
        "           sum=sum+i\n",
        "print(sum)\n"
      ],
      "metadata": {
        "colab": {
          "base_uri": "https://localhost:8080/"
        },
        "id": "vY0AfrFms8Ew",
        "outputId": "c7d88298-a1c1-4161-a245-0a4c648c371d"
      },
      "execution_count": null,
      "outputs": [
        {
          "output_type": "stream",
          "name": "stdout",
          "text": [
            "39814\n"
          ]
        }
      ]
    },
    {
      "cell_type": "code",
      "source": [
        "#Task_5\n",
        "i=10\n",
        "while(i<=50):\n",
        "  if(i%2!=0):\n",
        "    print(i,end=\" \")\n",
        "\n",
        "  i+=1\n"
      ],
      "metadata": {
        "colab": {
          "base_uri": "https://localhost:8080/"
        },
        "id": "n_mZRq4wrY-t",
        "outputId": "4950f8d5-f225-42f7-9b80-90d59076fde3"
      },
      "execution_count": null,
      "outputs": [
        {
          "output_type": "stream",
          "name": "stdout",
          "text": [
            "11 13 15 17 19 21 23 25 27 29 31 33 35 37 39 41 43 45 47 49 "
          ]
        }
      ]
    },
    {
      "cell_type": "code",
      "source": [
        "#Task_5\n",
        "for i in range(10,51):\n",
        "       if(i%2!=0):\n",
        "         print(i,end=\" \")\n",
        "\n",
        "\n"
      ],
      "metadata": {
        "colab": {
          "base_uri": "https://localhost:8080/"
        },
        "id": "W4udPxIvteNT",
        "outputId": "f4f17203-59f1-450c-b8c0-b8d5e525e20e"
      },
      "execution_count": null,
      "outputs": [
        {
          "output_type": "stream",
          "name": "stdout",
          "text": [
            "11 13 15 17 19 21 23 25 27 29 31 33 35 37 39 41 43 45 47 49 "
          ]
        }
      ]
    },
    {
      "cell_type": "code",
      "source": [
        "#Task_6\n",
        "n=int(input())\n",
        "sum=0\n",
        "i=1\n",
        "while(i<=n):\n",
        "   if(i%2==0):\n",
        "     sum+=i*i*-1\n",
        "   elif(i%2!=0):\n",
        "     sum+=i*i\n",
        "   i+=1\n",
        "\n",
        "\n",
        "print(sum)"
      ],
      "metadata": {
        "colab": {
          "base_uri": "https://localhost:8080/"
        },
        "id": "87vFdN6utOex",
        "outputId": "030a8382-4070-48ea-ed41-ddb2b4a10d2f"
      },
      "execution_count": null,
      "outputs": [
        {
          "output_type": "stream",
          "name": "stdout",
          "text": [
            "20\n",
            "-210\n"
          ]
        }
      ]
    },
    {
      "cell_type": "code",
      "source": [
        "#task_6\n",
        "n=int(input())\n",
        "sum=0\n",
        "for i in range(1,n+1):\n",
        "       if(i%2!=0):\n",
        "         sum=sum+i*i\n",
        "\n",
        "       elif(i%2==0):\n",
        "           sum=sum+i*i*-1\n",
        "print(sum)"
      ],
      "metadata": {
        "colab": {
          "base_uri": "https://localhost:8080/"
        },
        "id": "IZfYQcwAuZYt",
        "outputId": "94c819b8-5b7d-44ae-c9ed-4bfcdba15fa9"
      },
      "execution_count": null,
      "outputs": [
        {
          "output_type": "stream",
          "name": "stdout",
          "text": [
            "20\n",
            "-210\n"
          ]
        }
      ]
    },
    {
      "cell_type": "code",
      "source": [
        "#Task_7\n",
        "s=0\n",
        "i=1\n",
        "while(i<=10):\n",
        "   user=int(input())\n",
        "   if(i%2!=0):\n",
        "     s+=i\n",
        "   i+=1\n",
        "   avg=s/5\n",
        "print(\"The total of the odd numbers is {} and their average is {}\".format(s,avg))\n",
        "\n",
        "\n"
      ],
      "metadata": {
        "colab": {
          "base_uri": "https://localhost:8080/"
        },
        "id": "yIuGOauEfw5y",
        "outputId": "f4851aa3-ba63-47fd-d02a-b0400bc60daa"
      },
      "execution_count": null,
      "outputs": [
        {
          "output_type": "stream",
          "name": "stdout",
          "text": [
            "1\n",
            "2\n",
            "3\n",
            "4\n",
            "5\n",
            "6\n",
            "7\n",
            "8\n",
            "9\n",
            "10\n",
            "The total of the odd numbers is 25 and their average is 5.0\n"
          ]
        }
      ]
    },
    {
      "cell_type": "code",
      "source": [
        "#Task_7\n",
        "sum=0\n",
        "for i in range(1,11):\n",
        "  n=int(input())\n",
        "  if(n%2!=0):      #problem\n",
        "    sum+=n\n",
        "  avg=sum/5\n",
        "print(\"The total of the odd numbers is {} and their average is {}\".format(sum,avg))"
      ],
      "metadata": {
        "colab": {
          "base_uri": "https://localhost:8080/"
        },
        "id": "7RZESzQbvzMf",
        "outputId": "33bab18c-06de-4920-ce4e-88f997cbc137"
      },
      "execution_count": null,
      "outputs": [
        {
          "output_type": "stream",
          "name": "stdout",
          "text": [
            "1\n",
            "2\n",
            "3\n",
            "4\n",
            "5\n",
            "6\n",
            "7\n",
            "8\n",
            "9\n",
            "10\n",
            "The total of the odd numbers is 25 and their average is 5.0\n"
          ]
        }
      ]
    },
    {
      "cell_type": "code",
      "source": [
        "#Task_8\n",
        "N=int(input())\n",
        "s=0\n",
        "i=1\n",
        "while(i<=N):\n",
        "  if(i%7==0):\n",
        "    s+=i\n",
        "  i+=1\n",
        "print(s)\n"
      ],
      "metadata": {
        "colab": {
          "base_uri": "https://localhost:8080/"
        },
        "id": "9dUb-pXEiwt_",
        "outputId": "c19288c5-9212-4c5f-daf9-618430e789a3"
      },
      "execution_count": null,
      "outputs": [
        {
          "output_type": "stream",
          "name": "stdout",
          "text": [
            "75\n",
            "385\n"
          ]
        }
      ]
    },
    {
      "cell_type": "code",
      "source": [
        "#Task_8\n",
        "sum=0\n",
        "N=int(input())\n",
        "for i in range(1,N+1):\n",
        "  if(i%7==0):\n",
        "    sum+=i\n",
        "print(sum)\n",
        ""
      ],
      "metadata": {
        "colab": {
          "base_uri": "https://localhost:8080/"
        },
        "id": "hHA_taY8x4Nv",
        "outputId": "3fff77d6-2bf5-4697-b88f-9f9119d5750e"
      },
      "execution_count": null,
      "outputs": [
        {
          "output_type": "stream",
          "name": "stdout",
          "text": [
            "75\n",
            "385\n"
          ]
        }
      ]
    },
    {
      "cell_type": "code",
      "source": [
        "#Task_9\n",
        "sum=0\n",
        "i=1\n",
        "while(i<=5):\n",
        "   n=int(input(\"user input: \"))\n",
        "   sum=sum+i\n",
        "   print(\"sum is:\",sum)\n",
        "   i+=1"
      ],
      "metadata": {
        "colab": {
          "base_uri": "https://localhost:8080/"
        },
        "id": "nSdPLVBklwFP",
        "outputId": "144c85aa-6eb0-4942-da14-b560a90189ed"
      },
      "execution_count": null,
      "outputs": [
        {
          "output_type": "stream",
          "name": "stdout",
          "text": [
            "user input: 1\n",
            "sum is: 1\n",
            "user input: 2\n",
            "sum is: 3\n",
            "user input: 3\n",
            "sum is: 6\n",
            "user input: 4\n",
            "sum is: 10\n",
            "user input: 5\n",
            "sum is: 15\n"
          ]
        }
      ]
    },
    {
      "cell_type": "code",
      "source": [
        "#Task_9\n",
        "sum=0\n",
        "for i in range(1,6):\n",
        "  user=int(input(\"user: \"))\n",
        "  sum=sum+i\n",
        "  print(\"sum is\",sum)\n",
        "\n"
      ],
      "metadata": {
        "colab": {
          "base_uri": "https://localhost:8080/"
        },
        "id": "aHryId-NpB2L",
        "outputId": "d6ccad72-220e-4f6a-f8ae-260a92218793"
      },
      "execution_count": null,
      "outputs": [
        {
          "output_type": "stream",
          "name": "stdout",
          "text": [
            "user: 1\n",
            "sum is 1\n",
            "user: 2\n",
            "sum is 3\n",
            "user: 3\n",
            "sum is 6\n",
            "user: 4\n",
            "sum is 10\n",
            "user: 5\n",
            "sum is 15\n"
          ]
        }
      ]
    },
    {
      "cell_type": "code",
      "source": [
        "#task_10\n",
        "n=int(input())\n",
        "while(0<n):\n",
        "  if(n//10==0):\n",
        "    print(n%10)\n",
        "  else:\n",
        "    print(n%10,end=\",\")\n",
        "  n=n//10"
      ],
      "metadata": {
        "colab": {
          "base_uri": "https://localhost:8080/"
        },
        "id": "OoQftgPh1d2B",
        "outputId": "2b50e481-2b07-461b-d3fa-9b36571d0c33"
      },
      "execution_count": null,
      "outputs": [
        {
          "output_type": "stream",
          "name": "stdout",
          "text": [
            "32768\n",
            "8,6,7,2,3\n"
          ]
        }
      ]
    },
    {
      "cell_type": "code",
      "source": [],
      "metadata": {
        "colab": {
          "base_uri": "https://localhost:8080/"
        },
        "id": "qkm1Iv9yA0FU",
        "outputId": "2f8c1fd7-8e4d-40e1-a42b-f36c4cec8610"
      },
      "execution_count": null,
      "outputs": [
        {
          "output_type": "stream",
          "name": "stdout",
          "text": [
            "False\n"
          ]
        }
      ]
    },
    {
      "cell_type": "code",
      "source": [
        "#task 10\n",
        "n=int(input())\n",
        "for i in range(1,n+1,n//10):\n",
        "   if(n==0):\n",
        "    break\n",
        "   if(n//10==0):\n",
        "     print(n%10)\n",
        "   else:\n",
        "     print(n%10,end=\",\")\n",
        "   n=n//10"
      ],
      "metadata": {
        "colab": {
          "base_uri": "https://localhost:8080/"
        },
        "id": "mLZeO7aHD_cO",
        "outputId": "45428e2a-4bac-4bb6-a706-f50829c0c7ca"
      },
      "execution_count": null,
      "outputs": [
        {
          "output_type": "stream",
          "name": "stdout",
          "text": [
            "32678\n",
            "8,7,6,2,3\n"
          ]
        }
      ]
    },
    {
      "cell_type": "code",
      "source": [
        "#Task_11\n",
        "sum=0\n",
        "num=int(input())\n",
        "while(num>0):\n",
        "   num=num//10\n",
        "   sum=sum+1\n",
        "\n",
        "\n",
        "print(sum)"
      ],
      "metadata": {
        "colab": {
          "base_uri": "https://localhost:8080/"
        },
        "id": "TAW8tOdDuSUO",
        "outputId": "d3dc6b99-03ed-42ff-bc5e-1cff5d2a4b5b"
      },
      "execution_count": null,
      "outputs": [
        {
          "output_type": "stream",
          "name": "stdout",
          "text": [
            "59950\n",
            "5\n"
          ]
        }
      ]
    },
    {
      "cell_type": "code",
      "source": [
        "#Task_11(prb)\n",
        "sum=0\n",
        "num=int(input())\n",
        "for i in range(1,num+1,num//10):\n",
        "   num=num//10\n",
        "   sum=sum+1\n",
        "\n",
        "\n",
        "print(sum)\n"
      ],
      "metadata": {
        "colab": {
          "base_uri": "https://localhost:8080/"
        },
        "id": "Y_Fy_dQijeLH",
        "outputId": "c1fae2b8-e0db-432e-fcdd-25a912a04e6c"
      },
      "execution_count": null,
      "outputs": [
        {
          "output_type": "stream",
          "name": "stdout",
          "text": [
            "32768\n",
            "11\n"
          ]
        }
      ]
    },
    {
      "cell_type": "code",
      "source": [
        "#Task_12\n",
        "sum=0\n",
        "num=int(input())\n",
        "old_num=num\n",
        "while(num>0):\n",
        "    num=num//10\n",
        "    sum=sum+1\n",
        "for sum in range(sum,0,-1):\n",
        "\n",
        "     ok=old_num//10**(sum-1) #par by part calculate kore store korteci\n",
        "     print(ok,end=\"\")\n",
        "     old_num=old_num%10**(sum-1) #update korteci old_num\n",
        "     if(old_num==0):\n",
        "         break\n",
        "\n",
        "     print(end=\",\")\n"
      ],
      "metadata": {
        "id": "vOYFyj9rj-4c"
      },
      "execution_count": null,
      "outputs": []
    },
    {
      "cell_type": "code",
      "source": [
        "#Task_13\n",
        "n=int(input())\n",
        "sum=0\n",
        "i=1\n",
        "while(i<=n):\n",
        "  if(n%i==0):\n",
        "    print(i)\n",
        "    sum=sum+1\n",
        "  i+=1\n",
        "print(\"Total {} divisors.\".format(sum))"
      ],
      "metadata": {
        "colab": {
          "base_uri": "https://localhost:8080/"
        },
        "id": "qayuLJ8Ik2no",
        "outputId": "9b91c959-ad9a-4b0a-dd25-685e0f9b7ab5"
      },
      "execution_count": null,
      "outputs": [
        {
          "output_type": "stream",
          "name": "stdout",
          "text": [
            "6\n",
            "1\n",
            "2\n",
            "3\n",
            "6\n",
            "Total 4 divisors.\n"
          ]
        }
      ]
    },
    {
      "cell_type": "code",
      "source": [
        "#Task_13\n",
        "n=int(input())\n",
        "sum=0\n",
        "for i in range(1,n+1):\n",
        "  if(n%i==0):\n",
        "    print(i)\n",
        "    sum=sum+1\n",
        "\n",
        "print(\"Total {} divisors.\".format(sum))"
      ],
      "metadata": {
        "colab": {
          "base_uri": "https://localhost:8080/"
        },
        "id": "mmalMpn2nHor",
        "outputId": "731ea309-a62e-4638-d5a1-58d1bb9f884d"
      },
      "execution_count": null,
      "outputs": [
        {
          "output_type": "stream",
          "name": "stdout",
          "text": [
            "6\n",
            "1\n",
            "2\n",
            "3\n",
            "6\n",
            "Total 4 divisors.\n"
          ]
        }
      ]
    },
    {
      "cell_type": "code",
      "source": [
        "#Task_14\n",
        "n=int(input())\n",
        "sum=0\n",
        "i=1\n",
        "while(i<n):\n",
        "  if(n%i==0):\n",
        "   sum=sum+i\n",
        "\n",
        "  i+=1\n",
        "if(sum==n):\n",
        "      print(\"{} is a perfect number\".format(n))\n",
        "else:\n",
        "      print(\"{} is a perfect number\".format(n))\n",
        "\n"
      ],
      "metadata": {
        "colab": {
          "base_uri": "https://localhost:8080/"
        },
        "id": "MHaikG6wnbK4",
        "outputId": "d2425c9b-f566-43d3-d4c3-719362537fa9"
      },
      "execution_count": null,
      "outputs": [
        {
          "output_type": "stream",
          "name": "stdout",
          "text": [
            "6\n",
            "6 is a perfect number\n"
          ]
        }
      ]
    },
    {
      "cell_type": "code",
      "source": [
        "#Task_14\n",
        "n=int(input())\n",
        "sum=0\n",
        "for i in range(1,n):\n",
        "  if(n%i==0):\n",
        "   sum=sum+i\n",
        "\n",
        "if(sum==n):\n",
        "      print(\"{} is a perfect number\".format(n))\n",
        "else:\n",
        "      print(\"{} is a perfect number\".format(n))\n"
      ],
      "metadata": {
        "colab": {
          "base_uri": "https://localhost:8080/"
        },
        "id": "gcAOL2aZrD2s",
        "outputId": "1853e49f-e7a1-46cf-90e2-cd220dc2b2d1"
      },
      "execution_count": null,
      "outputs": [
        {
          "output_type": "stream",
          "name": "stdout",
          "text": [
            "6\n",
            "6 is a perfect number\n"
          ]
        }
      ]
    },
    {
      "cell_type": "code",
      "source": [
        "#Task_15(prb)\n",
        "n=int(input())\n",
        "sum=0\n",
        "i=1\n",
        "while(i<=n):\n",
        "  if(n%i==0):\n",
        "   sum=sum+1\n",
        "\n",
        "\n",
        "  i+=1\n",
        "if(sum==2):\n",
        "      print(\"{} is a prime number\".format(n))\n",
        "else:\n",
        "      print(\"{} is not a prime number\".format(n))\n",
        "\n",
        "\n",
        "\n",
        ""
      ],
      "metadata": {
        "colab": {
          "base_uri": "https://localhost:8080/"
        },
        "id": "b7kX23BtxdyU",
        "outputId": "82ffa466-8a4e-4af0-c212-02e35971e51d"
      },
      "execution_count": null,
      "outputs": [
        {
          "output_type": "stream",
          "name": "stdout",
          "text": [
            "11\n",
            "11 is a prime number\n"
          ]
        }
      ]
    },
    {
      "cell_type": "code",
      "source": [
        " #Task_15\n",
        "n=int(input())\n",
        "sum=0\n",
        "for i in range(1,n+1):\n",
        "   if(n%i==0):\n",
        "      sum=sum+1\n",
        "if(sum==2):\n",
        "     print(\"{} is a prime number\".format(n))\n",
        "else:\n",
        "     print(\"{} is a prime number\".format(n))\n"
      ],
      "metadata": {
        "colab": {
          "base_uri": "https://localhost:8080/"
        },
        "id": "aPFB5a9J01w0",
        "outputId": "b7432e08-1b57-43e5-b0b4-d07d1ef2d175"
      },
      "execution_count": null,
      "outputs": [
        {
          "output_type": "stream",
          "name": "stdout",
          "text": [
            "101\n",
            "101 is a prime number\n"
          ]
        }
      ]
    },
    {
      "cell_type": "code",
      "source": [
        "#Task_16\n",
        "import math\n",
        "n=int(input())\n",
        "max=-math.inf\n",
        "min=+math.inf\n",
        "sum=0\n",
        "for i in range (n):\n",
        "  m=int(input('input numbers'))\n",
        "  sum=sum+m\n",
        "  if(m>max):\n",
        "    max=m\n",
        "  if(min>m):\n",
        "    min=m\n",
        "print('Maximum',max)\n",
        "print('Minimum',min)\n",
        "print('Average',sum/n)\n",
        "\n",
        "\n",
        "\n"
      ],
      "metadata": {
        "colab": {
          "base_uri": "https://localhost:8080/"
        },
        "id": "n3ces0XkGu7t",
        "outputId": "267af6d9-87fc-4377-88a1-2a45b75e4c2d"
      },
      "execution_count": null,
      "outputs": [
        {
          "output_type": "stream",
          "name": "stdout",
          "text": [
            "5 \n",
            "input numbers10\n",
            "input numbers4\n",
            "input numbers-1\n",
            "input numbers-100\n",
            "input numbers1\n",
            "Maximum 10\n",
            "Minimum -100\n",
            "Average -17.2\n"
          ]
        }
      ]
    },
    {
      "cell_type": "code",
      "source": [
        "#Task_17\n",
        "N=int(input())\n",
        "for i in range(N):\n",
        "  print(\"+\"*N)"
      ],
      "metadata": {
        "colab": {
          "base_uri": "https://localhost:8080/"
        },
        "id": "ezIEhv06BwO6",
        "outputId": "609752d6-9f39-4012-9ac5-5ee020a182cc"
      },
      "execution_count": null,
      "outputs": [
        {
          "output_type": "stream",
          "name": "stdout",
          "text": [
            "5\n",
            "+++++\n",
            "+++++\n",
            "+++++\n",
            "+++++\n",
            "+++++\n"
          ]
        }
      ]
    },
    {
      "cell_type": "code",
      "source": [
        "#Task_18\n",
        "M=int(input())\n",
        "N=int(input())\n",
        "\n",
        "for i in range(1,M+1):\n",
        "    for j in range(1,N+1):\n",
        "           print(j,end=\"\")\n",
        "    print()"
      ],
      "metadata": {
        "id": "n1c9E_afHYr0",
        "colab": {
          "base_uri": "https://localhost:8080/"
        },
        "outputId": "89d81282-e819-4a92-cbac-b6b17013cabe"
      },
      "execution_count": null,
      "outputs": [
        {
          "output_type": "stream",
          "name": "stdout",
          "text": [
            "3\n",
            "2\n",
            "12\n",
            "12\n",
            "12\n"
          ]
        }
      ]
    },
    {
      "cell_type": "code",
      "source": [
        "#Task_19\n",
        "N=int(input())\n",
        "\n",
        "\n",
        "for row in range(N):\n",
        "    for column in range(row+1):\n",
        "           print(column+1,end=\"\")\n",
        "    print()\n"
      ],
      "metadata": {
        "colab": {
          "base_uri": "https://localhost:8080/"
        },
        "id": "Q5ugpdqDctz3",
        "outputId": "2c77c3c7-6641-4acb-f9c0-b76a5fb835cd"
      },
      "execution_count": null,
      "outputs": [
        {
          "output_type": "stream",
          "name": "stdout",
          "text": [
            "5\n",
            "1\n",
            "12\n",
            "123\n",
            "1234\n",
            "12345\n"
          ]
        }
      ]
    },
    {
      "cell_type": "code",
      "source": [
        "#Task_29\n",
        "n=int(input())\n",
        "m=int(input())\n",
        "check=int(input())\n",
        "for i in range(n,m+1):\n",
        "  if(i%check==0):\n",
        "    print(m)"
      ],
      "metadata": {
        "id": "YrkgOD8-pd44",
        "colab": {
          "base_uri": "https://localhost:8080/"
        },
        "outputId": "a99c40ae-1b36-489f-aa30-d6a299073f6a"
      },
      "execution_count": null,
      "outputs": [
        {
          "output_type": "stream",
          "name": "stdout",
          "text": [
            "25\n",
            "30\n",
            "4\n",
            "30\n"
          ]
        }
      ]
    },
    {
      "cell_type": "code",
      "source": [
        "#Task_25\n",
        "num=int(input())\n",
        "first=0\n",
        "second=1\n",
        "\n",
        "result=0\n",
        "if(num==0):\n",
        "  print(first)\n",
        "elif(num==1):\n",
        "    print(second)\n",
        "else:\n",
        "  print(first)\n",
        "  print(second)\n",
        "  for i in range(2,num+1):\n",
        "    result=first+second\n",
        "    first=second\n",
        "    second=third\n",
        "\n",
        "    print(third)\n",
        "\n",
        "\n"
      ],
      "metadata": {
        "id": "L33UG215V44L",
        "colab": {
          "base_uri": "https://localhost:8080/"
        },
        "outputId": "dcc1ec14-1f7b-4bc5-bc09-71b27b180ca4"
      },
      "execution_count": null,
      "outputs": [
        {
          "output_type": "stream",
          "name": "stdout",
          "text": [
            "10\n",
            "0\n",
            "1\n",
            "55\n",
            "55\n",
            "55\n",
            "55\n",
            "55\n",
            "55\n",
            "55\n",
            "55\n",
            "55\n"
          ]
        }
      ]
    },
    {
      "cell_type": "code",
      "source": [
        "#Task_26\n",
        "num=int(input())\n",
        "ho=\"\"\n",
        "\n",
        "while(num>0):\n",
        "      #ho+=str(num%2)\n",
        "      ho=str(num%2)+ho\n",
        "      num=num//2\n",
        "print(ho)  #print(ho[::-1])\n",
        "\n",
        "\n",
        "\n",
        ""
      ],
      "metadata": {
        "colab": {
          "base_uri": "https://localhost:8080/"
        },
        "id": "wJRqrEfDFTwA",
        "outputId": "96d84443-81ee-46d4-961a-1c966adf43cd"
      },
      "execution_count": null,
      "outputs": [
        {
          "output_type": "stream",
          "name": "stdout",
          "text": [
            "11\n",
            "1011\n"
          ]
        }
      ]
    },
    {
      "cell_type": "code",
      "source": [
        "#Task_26\n",
        "num=int(input())\n",
        "while(num>0):\n",
        "  str(lab)=num%2\n",
        "  print(lab[::-1])\n",
        "  num=num//2\n"
      ],
      "metadata": {
        "colab": {
          "base_uri": "https://localhost:8080/",
          "height": 133
        },
        "id": "N7ixmkcGLMl8",
        "outputId": "77fc6bdf-31ba-4734-d61d-ade800b9746c"
      },
      "execution_count": null,
      "outputs": [
        {
          "output_type": "error",
          "ename": "SyntaxError",
          "evalue": "ignored",
          "traceback": [
            "\u001b[0;36m  File \u001b[0;32m\"<ipython-input-37-06e1f8b93e42>\"\u001b[0;36m, line \u001b[0;32m4\u001b[0m\n\u001b[0;31m    str(lab)=num%2\u001b[0m\n\u001b[0m    ^\u001b[0m\n\u001b[0;31mSyntaxError\u001b[0m\u001b[0;31m:\u001b[0m can't assign to function call\n"
          ]
        }
      ]
    },
    {
      "cell_type": "code",
      "source": [
        "#Task_27\n"
      ],
      "metadata": {
        "id": "U9YT58WQNY9c"
      },
      "execution_count": null,
      "outputs": []
    },
    {
      "cell_type": "code",
      "source": [
        "#Special\n",
        "\n",
        "n=input()#w@#a 26s^$p\n",
        "al=0\n",
        "di=0\n",
        "sym=0\n",
        "for i in n:\n",
        "    if(i>=\"a\" and i<\"z\" ):\n",
        "        al+=1\n",
        "\n",
        "    elif(i>=\"0\" and i<=\"9\"):\n",
        "\n",
        "        di+=1\n",
        "    elif(i==\" \"):\n",
        "      pass\n",
        "    else:\n",
        "        sym+=1\n",
        "\n",
        "print(al,di,sym)"
      ],
      "metadata": {
        "colab": {
          "base_uri": "https://localhost:8080/"
        },
        "id": "f_8BZxPMxkcL",
        "outputId": "1d21be02-71b0-4a0a-ad00-dd7e011d5edf"
      },
      "execution_count": null,
      "outputs": [
        {
          "output_type": "stream",
          "name": "stdout",
          "text": [
            "AZC@# 123 %\n",
            "0 3 6\n"
          ]
        }
      ]
    }
  ]
}